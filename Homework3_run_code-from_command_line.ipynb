{
 "cells": [
  {
   "cell_type": "markdown",
   "metadata": {},
   "source": [
    "# Homework3\n",
    "## Running Code form Linux Command Line"
   ]
  },
  {
   "cell_type": "code",
   "execution_count": 1,
   "metadata": {},
   "outputs": [],
   "source": [
    "#define function for opening and processing input file\n",
    "# define function to read through lines and locate Etot, return number of step and energy"
   ]
  },
  {
   "cell_type": "code",
   "execution_count": 2,
   "metadata": {},
   "outputs": [],
   "source": [
    "import os\n",
    "import sys"
   ]
  },
  {
   "cell_type": "code",
   "execution_count": 7,
   "metadata": {},
   "outputs": [],
   "source": [
    "def inp_file(name):\n",
    "    file_in = open(name, 'r')\n",
    "    file_in_lines = file_in.readlines()\n",
    "    file_in.close()\n",
    "    return file_in_lines"
   ]
  },
  {
   "cell_type": "code",
   "execution_count": 11,
   "metadata": {},
   "outputs": [],
   "source": [
    "amber_file = os.path.join('data', '03_Prod.mdout')\n",
    "in_lines = inp_file(amber_file)"
   ]
  },
  {
   "cell_type": "code",
   "execution_count": 31,
   "metadata": {},
   "outputs": [],
   "source": [
    "def write_lines(inp):\n",
    "    #file_out = open('Etot.txt', 'w+')\n",
    "    for line in in_lines:\n",
    "        if 'NSTEP' in line:\n",
    "            step_line = line\n",
    "            step_num = step_line.split()[2]\n",
    "        if 'Etot' in line:\n",
    "            energy_line = line\n",
    "            energy = energy_line.split()[2]\n",
    "            return step_num, energy\n",
    "   # file_out.close()"
   ]
  },
  {
   "cell_type": "code",
   "execution_count": 30,
   "metadata": {},
   "outputs": [
    {
     "name": "stdout",
     "output_type": "stream",
     "text": [
      "('100', '-4585.1049')\n"
     ]
    }
   ],
   "source": [
    "print (write_lines(in_lines))"
   ]
  },
  {
   "cell_type": "code",
   "execution_count": null,
   "metadata": {},
   "outputs": [],
   "source": []
  }
 ],
 "metadata": {
  "kernelspec": {
   "display_name": "Python 3",
   "language": "python",
   "name": "python3"
  },
  "language_info": {
   "codemirror_mode": {
    "name": "ipython",
    "version": 3
   },
   "file_extension": ".py",
   "mimetype": "text/x-python",
   "name": "python",
   "nbconvert_exporter": "python",
   "pygments_lexer": "ipython3",
   "version": "3.7.4"
  }
 },
 "nbformat": 4,
 "nbformat_minor": 2
}
