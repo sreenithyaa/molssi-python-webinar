{
 "cells": [
  {
   "cell_type": "markdown",
   "metadata": {},
   "source": [
    "# Solution for week1"
   ]
  },
  {
   "cell_type": "code",
   "execution_count": 1,
   "metadata": {},
   "outputs": [
    {
     "data": {
      "text/plain": [
       "'/Users/nithyas/Desktop/cms-workshop'"
      ]
     },
     "execution_count": 1,
     "metadata": {},
     "output_type": "execute_result"
    }
   ],
   "source": [
    "pwd"
   ]
  },
  {
   "cell_type": "code",
   "execution_count": 6,
   "metadata": {},
   "outputs": [],
   "source": [
    "# open the file\n",
    "# Read the data\n",
    "# Loop through lines in the file\n",
    "# get information from the file"
   ]
  },
  {
   "cell_type": "code",
   "execution_count": 3,
   "metadata": {},
   "outputs": [],
   "source": [
    "import os"
   ]
  },
  {
   "cell_type": "code",
   "execution_count": 4,
   "metadata": {},
   "outputs": [
    {
     "name": "stdout",
     "output_type": "stream",
     "text": [
      "data/03_Prod.mdout\n"
     ]
    }
   ],
   "source": [
    "amber_file = os.path.join('data', '03_Prod.mdout')\n",
    "print(amber_file)"
   ]
  },
  {
   "cell_type": "code",
   "execution_count": 5,
   "metadata": {},
   "outputs": [
    {
     "data": {
      "text/plain": [
       "<function TextIOWrapper.close()>"
      ]
     },
     "execution_count": 5,
     "metadata": {},
     "output_type": "execute_result"
    }
   ],
   "source": [
    "infile = open(amber_file, 'r')\n",
    "data = infile.readlines()\n",
    "infile.close()\n",
    "\n",
    "result_file = open('Etot.txt', 'w+')\n",
    "for line in data:\n",
    "    if 'NSTEP' in line:\n",
    "        step_line = line\n",
    "        nstep = step_line.split()\n",
    "        step_number = nstep[2]\n",
    "#        print (nstep[0], nstep[1], nstep[2])\n",
    "    if 'Etot' in line:\n",
    "        energy_line = line\n",
    "        words = energy_line.split()\n",
    "        energy = words[2]\n",
    "        result_file.write(F'NSTEP = {step_number} and Etot = {energy} \\n')\n",
    "        \n",
    "result_file.close"
   ]
  },
  {
   "cell_type": "code",
   "execution_count": null,
   "metadata": {},
   "outputs": [],
   "source": []
  }
 ],
 "metadata": {
  "kernelspec": {
   "display_name": "Python 3",
   "language": "python",
   "name": "python3"
  },
  "language_info": {
   "codemirror_mode": {
    "name": "ipython",
    "version": 3
   },
   "file_extension": ".py",
   "mimetype": "text/x-python",
   "name": "python",
   "nbconvert_exporter": "python",
   "pygments_lexer": "ipython3",
   "version": "3.7.4"
  }
 },
 "nbformat": 4,
 "nbformat_minor": 2
}
