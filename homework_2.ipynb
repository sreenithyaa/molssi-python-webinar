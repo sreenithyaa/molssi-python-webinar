{
 "cells": [
  {
   "cell_type": "code",
   "execution_count": 1,
   "metadata": {},
   "outputs": [],
   "source": [
    "import os\n",
    "import numpy"
   ]
  },
  {
   "cell_type": "code",
   "execution_count": 6,
   "metadata": {},
   "outputs": [
    {
     "name": "stdout",
     "output_type": "stream",
     "text": [
      "[['O' '0.000000' '-0.007156' '0.965491']\n",
      " ['H1' '-0.000000' '0.001486' '-0.003471']\n",
      " ['H2' '0.000000' '0.931026' '1.207929']]\n"
     ]
    }
   ],
   "source": [
    "file_location = os.path.join('data', 'water.xyz')\n",
    "water_coord = numpy.genfromtxt(fname=file_location, skip_header=2, dtype='unicode')\n",
    "print(water_coord)"
   ]
  },
  {
   "cell_type": "code",
   "execution_count": 7,
   "metadata": {},
   "outputs": [
    {
     "name": "stdout",
     "output_type": "stream",
     "text": [
      "['O' 'H1' 'H2']\n"
     ]
    }
   ],
   "source": [
    "atom_list = water_coord[:,0]\n",
    "print(atom_list)"
   ]
  },
  {
   "cell_type": "code",
   "execution_count": 8,
   "metadata": {},
   "outputs": [
    {
     "name": "stdout",
     "output_type": "stream",
     "text": [
      "3\n"
     ]
    }
   ],
   "source": [
    "number_of_atoms = len(atom_list)\n",
    "print(number_of_atoms)"
   ]
  },
  {
   "cell_type": "code",
   "execution_count": 10,
   "metadata": {},
   "outputs": [
    {
     "name": "stdout",
     "output_type": "stream",
     "text": [
      "[[ 0.       -0.007156  0.965491]\n",
      " [-0.        0.001486 -0.003471]\n",
      " [ 0.        0.931026  1.207929]]\n"
     ]
    }
   ],
   "source": [
    "coordinates = water_coord[:,1:]\n",
    "coordinates = coordinates.astype(numpy.float)\n",
    "print(coordinates)"
   ]
  },
  {
   "cell_type": "code",
   "execution_count": 20,
   "metadata": {},
   "outputs": [
    {
     "name": "stdout",
     "output_type": "stream",
     "text": [
      "O to O is 0.0\n",
      "O to H1 is 0.9690005374652793\n",
      "O to H2 is 0.9690003348647513\n",
      "H1 to O is 0.9690005374652793\n",
      "H1 to H1 is 0.0\n",
      "H1 to H2 is 1.52693633514957\n",
      "H2 to O is 0.9690003348647513\n",
      "H2 to H1 is 1.52693633514957\n",
      "H2 to H2 is 0.0\n"
     ]
    }
   ],
   "source": [
    "for num1 in range(0,number_of_atoms):\n",
    "    for num2 in range(0,number_of_atoms):\n",
    "        x_dist = coordinates[num2,0] - coordinates[num1,0] \n",
    "        y_dist = coordinates[num2,1] - coordinates[num1,1]  \n",
    "        z_dist = coordinates[num2,2] - coordinates[num1,2]\n",
    "        bond_len = numpy.sqrt(x_dist**2 + y_dist**2 + z_dist**2)\n",
    "        print(F'{atom_list[num1]} to {atom_list[num2]} is {bond_len}')"
   ]
  },
  {
   "cell_type": "code",
   "execution_count": null,
   "metadata": {},
   "outputs": [],
   "source": []
  },
  {
   "cell_type": "code",
   "execution_count": null,
   "metadata": {},
   "outputs": [],
   "source": []
  }
 ],
 "metadata": {
  "kernelspec": {
   "display_name": "Python 3",
   "language": "python",
   "name": "python3"
  },
  "language_info": {
   "codemirror_mode": {
    "name": "ipython",
    "version": 3
   },
   "file_extension": ".py",
   "mimetype": "text/x-python",
   "name": "python",
   "nbconvert_exporter": "python",
   "pygments_lexer": "ipython3",
   "version": "3.7.4"
  }
 },
 "nbformat": 4,
 "nbformat_minor": 2
}
